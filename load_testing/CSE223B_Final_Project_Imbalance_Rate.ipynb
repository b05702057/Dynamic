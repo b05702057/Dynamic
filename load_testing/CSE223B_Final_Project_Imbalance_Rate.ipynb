{
  "nbformat": 4,
  "nbformat_minor": 0,
  "metadata": {
    "colab": {
      "name": "CSE223B_Final_Project_Imbalance_Rate.ipynb",
      "provenance": [],
      "collapsed_sections": [
        "fVgNaD34ucrL",
        "iQHmNu9-FseK",
        "yPbBbOAtFy8A",
        "EZ-l8mqlKxpn",
        "CiboGrAjK6DX",
        "ZtpP_C01NNGY",
        "qfI1n0WjRoCE",
        "3mgZbpGPulax",
        "EBC1Z-javgSH",
        "YgH14cAzzvb8",
        "yNq4Vol01gLB",
        "x59Evf661nmm",
        "-Nj_mImZ1q0N"
      ]
    },
    "kernelspec": {
      "name": "python3",
      "display_name": "Python 3"
    },
    "language_info": {
      "name": "python"
    }
  },
  "cells": [
    {
      "cell_type": "markdown",
      "source": [
        "###import libraries"
      ],
      "metadata": {
        "id": "fVgNaD34ucrL"
      }
    },
    {
      "cell_type": "code",
      "source": [
        "import matplotlib.pyplot as plt\n",
        "import numpy as np\n",
        "import math"
      ],
      "metadata": {
        "id": "gqlcsMaN3uGT"
      },
      "execution_count": 1,
      "outputs": []
    },
    {
      "cell_type": "markdown",
      "source": [
        "# KEY-VALUE STORE"
      ],
      "metadata": {
        "id": "pMpekrecyhYr"
      }
    },
    {
      "cell_type": "markdown",
      "source": [
        "###input (3_peaks_360s_10keys_500r)"
      ],
      "metadata": {
        "id": "iQHmNu9-FseK"
      }
    },
    {
      "cell_type": "code",
      "source": [
        "imbalance_rate = [\n",
        "1.6408839779005524, \n",
        "2.0039584364176153, \n",
        "1.963978849966953,\n",
        "1.983851433185305,\n",
        "1.98967434471803,\n",
        "1.9196608800968915, \n",
        "2.018658197697499,\n",
        "2.0205811138014527, \n",
        "1.9527965093216977, \n",
        "1.9737161342498988, \n",
        "1.9634630659253376, \n",
        "1.9430992736077481, \n",
        "1.8893312101910826, \n",
        "2.015738498789346,\n",
        "1.963831478537361,\n",
        "1.9366168752523214, \n",
        "2.01231135822081,\n",
        "1.9100806451612904, \n",
        "2.0463258785942493, \n",
        "1.9361873990306946, \n",
        "2.018658197697499,\n",
        "1.926060606060606,\n",
        "1.9427207637231503, \n",
        "2.0274193548387096, \n",
        "1.9654350417163289, \n",
        "2.0092854259184496, \n",
        "2.023034154090548,\n",
        "1.225181598062954,\n",
        "1.068705321683876,\n",
        "1.1476997578692494, \n",
        "1.1687847498014297, \n",
        "1.1169566976932417, \n",
        "1.1137083993660855, \n",
        "1.093970893970894,\n",
        "1.096108022239873,\n",
        "1.2009685230024214, \n",
        "1.2235901509134233, \n",
        "1.069007263922518,\n",
        "1.1179976162097736, \n",
        "1.172650262202501,\n",
        "1.1632896305125149, \n",
        "1.1380145278450364, \n",
        "1.1988095238095238, \n",
        "1.1074313408723748, \n",
        "1.1971383147853736, \n",
        "1.170024174053183,\n",
        "1.1580838323353293, \n",
        "1.178225806451613,\n",
        "1.114695340501792,\n",
        "1.170024174053183,\n",
        "1.1767757382282522, \n",
        "1.0954106280193237, \n",
        "1.1604790419161677, \n",
        "1.176588897827836,\n",
        "1.150438946528332,\n",
        "1.0912394025030279, \n",
        "1.1167795934635312, \n",
        "1.1280487804878048, \n",
        "1.1243999999999998, \n",
        "1.0647106109324758, \n",
        "1.1609795262946607, \n",
        "1.0383219039935458, \n",
        "1.1750599520383693, \n",
        "1.0853365384615385, \n",
        "1.1663999999999999, \n",
        "1.1542168674698796, \n",
        "1.0729751403368082, \n",
        "1.0757211538461537, \n",
        "1.078125,\n",
        "1.1192954363490792, \n",
        "1.1371841155234657, \n",
        "1.1112,\n",
        "1.049165120593692\n",
        "]"
      ],
      "metadata": {
        "id": "O5IqtFdM9H1G"
      },
      "execution_count": 17,
      "outputs": []
    },
    {
      "cell_type": "code",
      "source": [
        "d_rate = [\n",
        "1.9047619047619047, \n",
        "1.9821002386634845, \n",
        "1.0993939393939394, \n",
        "1.1108462455303934, \n",
        "1.1752827140549273, \n",
        "1.09697933227345,\n",
        "1.188861985472155,\n",
        "1.1442193087008343, \n",
        "1.1301535974130963, \n",
        "1.156597774244833,\n",
        "1.1014198782961462, \n",
        "1.1072705601907031, \n",
        "1.1280290791599352, \n",
        "1.1479713603818615, \n",
        "1.1355932203389831, \n",
        "1.1303656597774245, \n",
        "1.1251513928138879, \n",
        "1.085385226370135,\n",
        "1.2227602905569008, \n",
        "1.0758538522637013, \n",
        "1.1357575757575757, \n",
        "1.0830023828435265, \n",
        "1.1289409862570736, \n",
        "1.1930870083432659, \n",
        "1.0989499192245558, \n",
        "1.1801909307875895, \n",
        "1.1973365617433414, \n",
        "1.1028185788011116, \n",
        "1.0621719822365765, \n",
        "1.1489868891537545, \n",
        "1.1643780290791599, \n",
        "1.1270849880857823, \n",
        "1.0912394025030279, \n",
        "1.1136724960254372, \n",
        "1.1050080775444264, \n",
        "1.1895113230035756, \n",
        "1.2218623481781377, \n",
        "1.0877680698967434, \n",
        "1.1110662358642973, \n",
        "1.1771247021445592, \n",
        "1.1651190956802584, \n",
        "1.1348448687350836, \n",
        "1.1997578692493946, \n",
        "1.109033028253084,\n",
        "1.2026645135244247, \n",
        "1.162485065710872,\n",
        "1.1689571544058206, \n",
        "1.163411717815863,\n",
        "1.1219709208400646, \n",
        "1.1789137380191694, \n",
        "1.1676067687348912, \n",
        "1.1169193934557062, \n",
        "1.1541247484909456, \n",
        "1.2385321100917432, \n",
        "1.1355591311343525, \n",
        "1.1034345047923324, \n",
        "1.1163914619412003, \n",
        "1.1376,\n",
        "1.1189710610932475, \n",
        "1.079757085020243,\n",
        "1.1412520064205458, \n",
        "1.0481927710843373, \n",
        "1.1641252006420546, \n",
        "1.0952762209767815, \n",
        "1.171875,\n",
        "1.1423401688781665, \n",
        "1.0713426853707415, \n",
        "1.0769230769230769, \n",
        "1.0810593900481542, \n",
        "1.1256038647342994, \n",
        "1.1289031224979984, \n",
        "1.1081953976584578, \n",
        "1.0452127659574468          \n",
        "]"
      ],
      "metadata": {
        "id": "_Lda40R7mc3U"
      },
      "execution_count": 18,
      "outputs": []
    },
    {
      "cell_type": "markdown",
      "source": [
        "###output (3_peaks_360s_10keys_500r)"
      ],
      "metadata": {
        "id": "yPbBbOAtFy8A"
      }
    },
    {
      "cell_type": "code",
      "source": [
        "# y-axis\n",
        "time = []\n",
        "for i in range(len(imbalance_rate)):\n",
        "  time.append(5 * (i + 1))\n",
        "\n",
        "# y-axis\n",
        "d_time = []\n",
        "for i in range(len(d_rate)):\n",
        "  d_time.append(5 * (i + 1))\n",
        "\n",
        "# plot the lines and labels\n",
        "plt.plot(time, imbalance_rate, label=\"ConsistentHashing\")\n",
        "plt.plot(d_time, d_rate, label=\"DynamicLoadBalancing\")\n",
        "plt.legend()\n",
        "\n",
        "# plot the x and y labels\n",
        "plt.xlabel('Time (seconds)')\n",
        "plt.ylabel('Imbalance')\n",
        "\n",
        "# annotation\n",
        "ax = plt.subplot()\n",
        "ax.annotate(\n",
        "    'phase change 1', \n",
        "    xy=(135, 2),  \n",
        "    xycoords='data',\n",
        "    xytext=(0.7, 0.7), \n",
        "    textcoords='axes fraction',\n",
        "    arrowprops=dict(facecolor='black', shrink=0.05),\n",
        "    horizontalalignment='right', \n",
        "    verticalalignment='top',\n",
        ")\n",
        "\n",
        "ax = plt.subplot()\n",
        "ax.annotate(\n",
        "    'phase change 2', \n",
        "    xy=(270, 1.3),  \n",
        "    xycoords='data',\n",
        "    xytext=(0.7, 0.5), \n",
        "    textcoords='axes fraction',\n",
        "    arrowprops=dict(facecolor='black', shrink=0.05),\n",
        "    horizontalalignment='right', \n",
        "    verticalalignment='top',\n",
        ")"
      ],
      "metadata": {
        "colab": {
          "base_uri": "https://localhost:8080/",
          "height": 351
        },
        "id": "iSsZA25I-Asf",
        "outputId": "5dd0b80c-6262-482d-f7db-8a4471ebebf8"
      },
      "execution_count": 25,
      "outputs": [
        {
          "output_type": "stream",
          "name": "stderr",
          "text": [
            "/usr/local/lib/python3.7/dist-packages/ipykernel_launcher.py:21: MatplotlibDeprecationWarning: Adding an axes using the same arguments as a previous axes currently reuses the earlier instance.  In a future version, a new instance will always be created and returned.  Meanwhile, this warning can be suppressed, and the future behavior ensured, by passing a unique label to each axes instance.\n",
            "/usr/local/lib/python3.7/dist-packages/ipykernel_launcher.py:33: MatplotlibDeprecationWarning: Adding an axes using the same arguments as a previous axes currently reuses the earlier instance.  In a future version, a new instance will always be created and returned.  Meanwhile, this warning can be suppressed, and the future behavior ensured, by passing a unique label to each axes instance.\n"
          ]
        },
        {
          "output_type": "execute_result",
          "data": {
            "text/plain": [
              "Text(0.7, 0.5, 'phase change 2')"
            ]
          },
          "metadata": {},
          "execution_count": 25
        },
        {
          "output_type": "display_data",
          "data": {
            "text/plain": [
              "<Figure size 432x288 with 1 Axes>"
            ],
            "image/png": "[encoded data removed]"
          },
          "metadata": {
            "needs_background": "light"
          }
        }
      ]
    },
    {
      "cell_type": "markdown",
      "source": [
        "###input (3_peaks_360s_10keys)"
      ],
      "metadata": {
        "id": "EZ-l8mqlKxpn"
      }
    },
    {
      "cell_type": "code",
      "source": [
        "imbalance_rate = [\n",
        " 1.154382470119522, \n",
        "1.1617973688706646, \n",
        "1.1655817737998373, \n",
        "1.1594412053339491, \n",
        "1.1563180203917975, \n",
        "1.1469267955801106, \n",
        "1.1708321418358594, \n",
        "1.1822454308093995, \n",
        "1.1827188940092166, \n",
        "1.1817706517950506, \n",
        "1.188097893068842,\n",
        "1.2133294864397,\n",
        "1.1546131805157593, \n",
        "1.179162552993786,\n",
        "1.201878201479795,\n",
        "1.166551724137931,\n",
        "1.1703202111786983, \n",
        "1.1571478422705597, \n",
        "1.1844827586206896, \n",
        "1.1694886266461433, \n",
        "1.160344827586207,\n",
        "1.1623295454545455, \n",
        "1.1328138528138527, \n",
        "1.1852820321255135, \n",
        "1.1557253611467455, \n",
        "1.159962960819492,\n",
        "1.1798275862068965, \n",
        "1.0202733485193622, \n",
        "1.0304973141569918, \n",
        "1.0148378191856453, \n",
        "1.0237551393330289, \n",
        "1.0033941206926307, \n",
        "1.0383891392390623, \n",
        "1.021243612562439,\n",
        "1.018403509771523,\n",
        "1.0102951678171865, \n",
        "1.0074524974399819, \n",
        "1.047553411440386,\n",
        "1.0148807813846594, \n",
        "1.0429310344827587, \n",
        "1.0192056366839026, \n",
        "1.016551724137931,\n",
        "1.034055016367082,\n",
        "1.0310551835603785, \n",
        "1.025451418744626,\n",
        "1.0148961868062345, \n",
        "1.0326080020419883, \n",
        "1.0396642967872989, \n",
        "1.0191379310344828, \n",
        "1.0357467606274153, \n",
        "1.013851370768435,\n",
        "1.0078418002045686, \n",
        "1.036896551724138,\n",
        "1.575553541369934,\n",
        "2.05665654466997,\n",
        "2.069494509179311,\n",
        "2.055243295326803,\n",
        "2.068542681968244,\n",
        "2.0817181340341655, \n",
        "2.0535135135135136, \n",
        "2.080831954620657,\n",
        "2.038739021329987,\n",
        "2.0602158828064767, \n",
        "2.0601408562158743, \n",
        "2.07424206254476,\n",
        "2.0590047758434755, \n",
        "2.0603003284842796, \n",
        "2.0489445604268153, \n",
        "2.0587173247507655, \n",
        "2.0481435834232014, \n",
        "2.0484488552004376, \n",
        "2.0787884171255997, \n",
        "2.0796080832823023                   \n",
        "]"
      ],
      "metadata": {
        "id": "4HiF935zK-Hb"
      },
      "execution_count": 26,
      "outputs": []
    },
    {
      "cell_type": "code",
      "source": [
        "d_rate = [\n",
        "1.1686126373626373, \n",
        "1.1681431714132826, \n",
        "1.1556345878231329, \n",
        "1.1381514540742874, \n",
        "1.1747372048940203, \n",
        "1.148877533444336,\n",
        "1.179812561848769,\n",
        "1.182941479320405,\n",
        "1.1915041782729805, \n",
        "1.1840887009201577, \n",
        "1.1865113853641578, \n",
        "1.2097191108047562, \n",
        "1.1527857553130385, \n",
        "1.1826707324089523, \n",
        "1.2015169798310636, \n",
        "1.1687708022495122, \n",
        "1.1580578512396693, \n",
        "1.1651154774215788, \n",
        "1.184709922284475,\n",
        "1.1571869993133441, \n",
        "1.168855749928305,\n",
        "1.1492734478203435, \n",
        "1.1415352981494173, \n",
        "1.1659086984053884, \n",
        "1.159226953993501,\n",
        "1.1554383116883118, \n",
        "1.0926130099228224, \n",
        "1.960999194198227,\n",
        "1.02690455961484,\n",
        "1.0494493629885553, \n",
        "1.031271596406358,\n",
        "1.014700815435856,\n",
        "1.0365545736256168, \n",
        "1.0289597430898039, \n",
        "1.0148782169117647, \n",
        "1.0204910995363745, \n",
        "1.0107495976086456, \n",
        "1.038085993262148,\n",
        "1.011457193851114,\n",
        "1.036824266099845,\n",
        "1.0206203331418726, \n",
        "1.0265939311285373, \n",
        "1.0421609782807082, \n",
        "1.0236260053619304, \n",
        "1.0313952820983756, \n",
        "1.0142196333733082, \n",
        "1.030506721820062,\n",
        "1.044736690978005,\n",
        "1.0202505577484127, \n",
        "1.0336555056955472, \n",
        "1.0119218203702642, \n",
        "1.014467791939373,\n",
        "1.0430537315137327, \n",
        "1.8016576995783045, \n",
        "1.0882402564535179, \n",
        "1.1027911164465787, \n",
        "1.1507552009119408, \n",
        "1.1099167822468794, \n",
        "1.1225409134971773, \n",
        "1.12538913870633,\n",
        "1.0883259157822665, \n",
        "1.1062058671565533, \n",
        "1.1247427395380745, \n",
        "1.1266360505166475, \n",
        "1.1289455626715463, \n",
        "1.0893297402671864, \n",
        "1.1080078804032911, \n",
        "1.1288589069288817, \n",
        "1.1156540714367749, \n",
        "1.1062713797035346, \n",
        "1.1081671360423013, \n",
        "1.092588369441277,\n",
        "1.0982784920461974           \n",
        "]"
      ],
      "metadata": {
        "id": "87jpTco4LcBU"
      },
      "execution_count": 27,
      "outputs": []
    },
    {
      "cell_type": "markdown",
      "source": [
        "###output (3_peaks_360s_10keys)"
      ],
      "metadata": {
        "id": "CiboGrAjK6DX"
      }
    },
    {
      "cell_type": "code",
      "source": [
        "# y-axis\n",
        "time = []\n",
        "for i in range(len(imbalance_rate)):\n",
        "  time.append(5 * (i + 1))\n",
        "\n",
        "# y-axis\n",
        "d_time = []\n",
        "for i in range(len(d_rate)):\n",
        "  d_time.append(5 * (i + 1))\n",
        "\n",
        "# plot the lines and labels\n",
        "plt.plot(time, imbalance_rate, label=\"ConsistentHashing\")\n",
        "plt.plot(d_time, d_rate, label=\"DynamicLoadBalancing\")\n",
        "plt.legend()\n",
        "\n",
        "# plot the x and y labels\n",
        "plt.xlabel('Time (seconds)')\n",
        "plt.ylabel('Imbalance')\n",
        "\n",
        "# annotation\n",
        "ax = plt.subplot()\n",
        "ax.annotate(\n",
        "    'phase change 1', \n",
        "    xy=(135, 2),  \n",
        "    xycoords='data',\n",
        "    xytext=(0.3, 0.7), \n",
        "    textcoords='axes fraction',\n",
        "    arrowprops=dict(facecolor='black', shrink=0.05),\n",
        "    horizontalalignment='right', \n",
        "    verticalalignment='top',\n",
        ")\n",
        "\n",
        "ax = plt.subplot()\n",
        "ax.annotate(\n",
        "    'phase change 2', \n",
        "    xy=(270, 1.8),  \n",
        "    xycoords='data',\n",
        "    xytext=(0.7, 0.9), \n",
        "    textcoords='axes fraction',\n",
        "    arrowprops=dict(facecolor='black', shrink=0.05),\n",
        "    horizontalalignment='right', \n",
        "    verticalalignment='top',\n",
        ")"
      ],
      "metadata": {
        "colab": {
          "base_uri": "https://localhost:8080/",
          "height": 351
        },
        "id": "aRoCPvsOK0Zg",
        "outputId": "1303923d-a8ae-48a6-b073-83a8be49be51"
      },
      "execution_count": 34,
      "outputs": [
        {
          "output_type": "stream",
          "name": "stderr",
          "text": [
            "/usr/local/lib/python3.7/dist-packages/ipykernel_launcher.py:21: MatplotlibDeprecationWarning: Adding an axes using the same arguments as a previous axes currently reuses the earlier instance.  In a future version, a new instance will always be created and returned.  Meanwhile, this warning can be suppressed, and the future behavior ensured, by passing a unique label to each axes instance.\n",
            "/usr/local/lib/python3.7/dist-packages/ipykernel_launcher.py:33: MatplotlibDeprecationWarning: Adding an axes using the same arguments as a previous axes currently reuses the earlier instance.  In a future version, a new instance will always be created and returned.  Meanwhile, this warning can be suppressed, and the future behavior ensured, by passing a unique label to each axes instance.\n"
          ]
        },
        {
          "output_type": "execute_result",
          "data": {
            "text/plain": [
              "Text(0.7, 0.9, 'phase change 2')"
            ]
          },
          "metadata": {},
          "execution_count": 34
        },
        {
          "output_type": "display_data",
          "data": {
            "text/plain": [
              "<Figure size 432x288 with 1 Axes>"
            ],
            "image/png": "[encoded data removed]"
          },
          "metadata": {
            "needs_background": "light"
          }
        }
      ]
    },
    {
      "cell_type": "markdown",
      "source": [
        "###input (3_phases_5_peaks_360s_1000keys)"
      ],
      "metadata": {
        "id": "ZtpP_C01NNGY"
      }
    },
    {
      "cell_type": "code",
      "source": [
        "imbalance_rate = [\n",
        "1.1698990222792114, \n",
        "1.1389468931655287, \n",
        "1.1410814170292107, \n",
        "1.14721044793218,\n",
        "1.1325482916642498, \n",
        "1.1652806652806653, \n",
        "1.1379131037670442, \n",
        "1.1251930225907922, \n",
        "1.1220465651049152, \n",
        "1.1384941553976622, \n",
        "1.1553926341714875, \n",
        "1.1484871017559914, \n",
        "1.1580166821130675, \n",
        "1.1394296839212095, \n",
        "1.146413887619918,\n",
        "1.1283752596353567, \n",
        "1.1651555147480774, \n",
        "1.1264176881658838, \n",
        "1.1516721620348565, \n",
        "1.1272143553287852, \n",
        "1.1624784853700516, \n",
        "1.14298138806749,\n",
        "1.1185655456417296, \n",
        "1.1713037479880433, \n",
        "1.1292880537838303, \n",
        "1.1460017196904557, \n",
        "1.125195799733132,\n",
        "1.2456404611552052, \n",
        "1.2542917838893035, \n",
        "1.2787336545079147, \n",
        "1.2689639222941722, \n",
        "1.2165388385906235, \n",
        "1.2619456858026814, \n",
        "1.294892349977096,\n",
        "1.276056338028169,\n",
        "1.2534881061299177, \n",
        "1.2787539012830886, \n",
        "1.244486560992419,\n",
        "1.2687028140013727, \n",
        "1.2658133394558604, \n",
        "1.2615375795448032, \n",
        "1.252249585602652,\n",
        "1.2612956526693637, \n",
        "1.2743393204438853, \n",
        "1.2633680555555555, \n",
        "1.2651184180271327, \n",
        "1.2855424447244816, \n",
        "1.2611156022635408, \n",
        "1.2585761075676607, \n",
        "1.2712620027434842, \n",
        "1.2643585459991935, \n",
        "1.2629137555835528, \n",
        "1.2588000000000001, \n",
        "1.1916647452155869, \n",
        "1.3103288559518296, \n",
        "1.2791613575813738, \n",
        "1.3076967459035311, \n",
        "1.3189207886544447, \n",
        "1.29164265129683,\n",
        "1.2450918665216644, \n",
        "1.286231884057971,\n",
        "1.2620320855614973, \n",
        "1.2831751509922347, \n",
        "1.302540415704388,\n",
        "1.2998102466793169, \n",
        "1.296417499138822,\n",
        "1.2649944193150444, \n",
        "1.2849293114303704, \n",
        "1.2782653588022717, \n",
        "1.2967842144624058, \n",
        "1.280251470757873,\n",
        "1.2771167442662528, \n",
        "1.2708650357017441                 \n",
        "]"
      ],
      "metadata": {
        "id": "DROhk9_iULnp"
      },
      "execution_count": 35,
      "outputs": []
    },
    {
      "cell_type": "code",
      "source": [
        "d_rate =[\n",
        "1.1663479923518165, \n",
        "1.1655694944727364, \n",
        "1.1366332475985512, \n",
        "1.139833957349829,\n",
        "1.1135107118175536, \n",
        "1.1435132032146957, \n",
        "1.1016978516978517, \n",
        "1.1197146637519415, \n",
        "1.1218007839520405, \n",
        "1.112839122170382,\n",
        "1.1254944676947773, \n",
        "1.1134853345554536, \n",
        "1.1338364924814195, \n",
        "1.105245036152875,\n",
        "1.095221048863433,\n",
        "1.1212104199416124, \n",
        "1.127444758553049,\n",
        "1.1298611907766434, \n",
        "1.1117363344051447, \n",
        "1.1143397524071528, \n",
        "1.1260104339849797, \n",
        "1.1136220246630342, \n",
        "1.110148943540007,\n",
        "1.1254089422028353, \n",
        "1.1189272998736648, \n",
        "1.1156797617684113, \n",
        "1.1066337088985974, \n",
        "1.240786809372288,\n",
        "1.1901068597035505, \n",
        "1.2068134893324156, \n",
        "1.2270462225786127, \n",
        "1.1835366901529472, \n",
        "1.2068827071981645, \n",
        "1.1973812668695802, \n",
        "1.1952601751674394, \n",
        "1.177568493150685,\n",
        "1.1900769097322617, \n",
        "1.1927458730527785, \n",
        "1.1946328870745033, \n",
        "1.1943626896083315, \n",
        "1.2108402638371092, \n",
        "1.2164345882757435, \n",
        "1.1903425363730096, \n",
        "1.223672908434977,\n",
        "1.2118952661695856, \n",
        "1.2004806041881222, \n",
        "1.218863991662324,\n",
        "1.1874104225190623, \n",
        "1.177510729613734,\n",
        "1.219257807998156,\n",
        "1.1805555555555556, \n",
        "1.214663143989432,\n",
        "1.1692797223025744, \n",
        "1.0945992432060543, \n",
        "1.0855749928305132, \n",
        "1.0778700257658174, \n",
        "1.0988151386172784, \n",
        "1.0974055791527955, \n",
        "1.0967520192472933, \n",
        "1.051084835265756,\n",
        "1.0712074303405572, \n",
        "1.0677878544369188, \n",
        "1.0761171567492473, \n",
        "1.0992259791654542, \n",
        "1.0779474227987602, \n",
        "1.0866766294976435, \n",
        "1.049638055842813,\n",
        "1.0807965209430077, \n",
        "1.0737348294023357, \n",
        "1.067377105534548,\n",
        "1.0767548906789415, \n",
        "1.0678577563992442, \n",
        "1.0694915254237287         \n",
        "]"
      ],
      "metadata": {
        "id": "jnc4Rr-mVC6W"
      },
      "execution_count": 36,
      "outputs": []
    },
    {
      "cell_type": "markdown",
      "source": [
        "###output (3_phases_5_peaks_360s_1000keys)"
      ],
      "metadata": {
        "id": "qfI1n0WjRoCE"
      }
    },
    {
      "cell_type": "code",
      "source": [
        "# y-axis\n",
        "time = []\n",
        "for i in range(len(imbalance_rate)):\n",
        "  time.append(5 * (i + 1))\n",
        "\n",
        "# y-axis\n",
        "d_time = []\n",
        "for i in range(len(d_rate)):\n",
        "  d_time.append(5 * (i + 1))\n",
        "\n",
        "# plot the lines and labels\n",
        "plt.plot(time, imbalance_rate, label=\"ConsistentHashing\")\n",
        "plt.plot(d_time, d_rate, label=\"DynamicLoadBalancing\")\n",
        "plt.legend()\n",
        "\n",
        "# plot the x and y labels\n",
        "plt.xlabel('Time (seconds)')\n",
        "plt.ylabel('Imbalance')\n",
        "\n",
        "# annotation\n",
        "ax = plt.subplot()\n",
        "ax.annotate(\n",
        "    'phase change 1', \n",
        "    xy=(135, 1.25),  \n",
        "    xycoords='data',\n",
        "    xytext=(0.3, 0.6), \n",
        "    textcoords='axes fraction',\n",
        "    arrowprops=dict(facecolor='black', shrink=0.05),\n",
        "    horizontalalignment='right', \n",
        "    verticalalignment='top',\n",
        ")\n",
        "\n",
        "ax = plt.subplot()\n",
        "ax.annotate(\n",
        "    'phase change 2', \n",
        "    xy=(270, 1.25),  \n",
        "    xycoords='data',\n",
        "    xytext=(0.7, 1), \n",
        "    textcoords='axes fraction',\n",
        "    arrowprops=dict(facecolor='black', shrink=0.05),\n",
        "    horizontalalignment='right', \n",
        "    verticalalignment='top',\n",
        ")"
      ],
      "metadata": {
        "colab": {
          "base_uri": "https://localhost:8080/",
          "height": 351
        },
        "id": "IMjA6CcIRlxd",
        "outputId": "53d5afe8-b698-4a82-e977-cc1c4b94515a"
      },
      "execution_count": 55,
      "outputs": [
        {
          "output_type": "stream",
          "name": "stderr",
          "text": [
            "/usr/local/lib/python3.7/dist-packages/ipykernel_launcher.py:21: MatplotlibDeprecationWarning: Adding an axes using the same arguments as a previous axes currently reuses the earlier instance.  In a future version, a new instance will always be created and returned.  Meanwhile, this warning can be suppressed, and the future behavior ensured, by passing a unique label to each axes instance.\n",
            "/usr/local/lib/python3.7/dist-packages/ipykernel_launcher.py:33: MatplotlibDeprecationWarning: Adding an axes using the same arguments as a previous axes currently reuses the earlier instance.  In a future version, a new instance will always be created and returned.  Meanwhile, this warning can be suppressed, and the future behavior ensured, by passing a unique label to each axes instance.\n"
          ]
        },
        {
          "output_type": "execute_result",
          "data": {
            "text/plain": [
              "Text(0.7, 1, 'phase change 2')"
            ]
          },
          "metadata": {},
          "execution_count": 55
        },
        {
          "output_type": "display_data",
          "data": {
            "text/plain": [
              "<Figure size 432x288 with 1 Axes>"
            ],
            "image/png": "[encoded data removed]"
          },
          "metadata": {
            "needs_background": "light"
          }
        }
      ]
    },
    {
      "cell_type": "markdown",
      "source": [
        "###input (3_phases_360s_100keys)"
      ],
      "metadata": {
        "id": "3mgZbpGPulax"
      }
    },
    {
      "cell_type": "code",
      "source": [
        "imbalance_rate =[\n",
        "1.3423336547733846, \n",
        "1.367726343186466,\n",
        "1.4173992673992675, \n",
        "1.3694068678459939, \n",
        "1.4107696645052157, \n",
        "1.361766181635725,\n",
        "1.3916976810764385, \n",
        "1.393091537132988,\n",
        "1.3545496323529411, \n",
        "1.4011831600712192, \n",
        "1.3795633187772927, \n",
        "1.3667067903419952, \n",
        "1.3975633215774286, \n",
        "1.3859887774188062, \n",
        "1.3547312305641936, \n",
        "1.400610212423004,\n",
        "1.351227608309964,\n",
        "1.3886688479421387, \n",
        "1.3809605784128076, \n",
        "1.3759033358385846, \n",
        "1.365322950068713,\n",
        "1.3875924545610916, \n",
        "1.3691321273185253, \n",
        "1.3799858806918461, \n",
        "1.388185412250043,\n",
        "1.3688647649844092, \n",
        "1.3633081155433286, \n",
        "1.2257132955989374, \n",
        "1.12054997717937,\n",
        "1.10014598540146,\n",
        "1.092157985117344,\n",
        "1.0954699043582843, \n",
        "1.112908777969019,\n",
        "1.1252582051870554, \n",
        "1.1284309240622141, \n",
        "1.103556292611019,\n",
        "1.0998463058513557, \n",
        "1.1324675324675324, \n",
        "1.1063025931650352, \n",
        "1.114221916867056,\n",
        "1.0948704752101561, \n",
        "1.1122899581350003, \n",
        "1.1028728711508688, \n",
        "1.133379286575909,\n",
        "1.1033889557887493, \n",
        "1.0963386727688786, \n",
        "1.0984123344987677, \n",
        "1.1242253844388341, \n",
        "1.1162670643570036, \n",
        "1.092741472378546,\n",
        "1.095734325794446,\n",
        "1.1084302825376813, \n",
        "1.1169993117687542, \n",
        "1.1256902899217671, \n",
        "1.0914403575111722, \n",
        "1.1003900871959613, \n",
        "1.1188369152970923, \n",
        "1.1081313391782706, \n",
        "1.1212433453546282, \n",
        "1.1126736408849254, \n",
        "1.1319452432992063, \n",
        "1.103519313304721,\n",
        "1.102261666189522,\n",
        "1.1097749527572582, \n",
        "1.1313646788990825, \n",
        "1.0992052147063869, \n",
        "1.123402785771843,\n",
        "1.1145898918207315, \n",
        "1.1036322947150972, \n",
        "1.1237354975138596, \n",
        "1.1013998149005089, \n",
        "1.114010989010989,\n",
        "1.1064638783269962                 \n",
        "]"
      ],
      "metadata": {
        "id": "vrpcSL2yvl9C"
      },
      "execution_count": 56,
      "outputs": []
    },
    {
      "cell_type": "code",
      "source": [
        "d_rate =[\n",
        "1.3504398826979471, \n",
        "1.3418705694031556, \n",
        "1.2829365573974822, \n",
        "1.296079930115746,\n",
        "1.3096005154639174, \n",
        "1.2959032702413142, \n",
        "1.2973459289248763, \n",
        "1.314847353393367,\n",
        "1.3031611677319053, \n",
        "1.2943126308443824, \n",
        "1.3103249264154209, \n",
        "1.3071182548794489, \n",
        "1.3106678230702515, \n",
        "1.2975171748824876, \n",
        "1.3019815796818308, \n",
        "1.301571821936668,\n",
        "1.3258058955352525, \n",
        "1.2784679089026916, \n",
        "1.281352423667414,\n",
        "1.2787053393355745, \n",
        "1.2723919915700737, \n",
        "1.2809414466130884, \n",
        "1.2937091034324417, \n",
        "1.3246686176622482, \n",
        "1.3199999999999998, \n",
        "1.304822223615727,\n",
        "1.3049050889621978, \n",
        "1.1043832940770955, \n",
        "1.0998119979490686, \n",
        "1.1314837153196622, \n",
        "1.1038864827900616, \n",
        "1.1235993794173418, \n",
        "1.124073754954334,\n",
        "1.1124620060790273, \n",
        "1.1360783184566658, \n",
        "1.1104801239029427, \n",
        "1.1358222629409072, \n",
        "1.118345240838903,\n",
        "1.1470235031737863, \n",
        "1.119304347826087,\n",
        "1.1235101053722578, \n",
        "1.1076739018971116, \n",
        "1.1165715616629788, \n",
        "1.1023971418693097, \n",
        "1.1440225196759926, \n",
        "1.1133967747449998, \n",
        "1.1066436583261432, \n",
        "1.1206837606837607, \n",
        "1.108182601205857,\n",
        "1.1170478570055737, \n",
        "1.1216673719847652, \n",
        "1.10625,\n",
        "1.1120180618270232, \n",
        "1.1845234675705176, \n",
        "1.2667429225050044, \n",
        "1.1106698895027625, \n",
        "1.1116621067031465, \n",
        "1.1095771216427868, \n",
        "1.1031846401471601, \n",
        "1.1325017245343756, \n",
        "1.121324367449282,\n",
        "1.099297315977422,\n",
        "1.1070520231213872, \n",
        "1.1032978537777003, \n",
        "1.117724715876478,\n",
        "1.1075225561749324, \n",
        "1.1182257507766655, \n",
        "1.1223058501539513, \n",
        "1.1147588110159259, \n",
        "1.1047863247863248, \n",
        "1.1080768340661884, \n",
        "1.1116048538711332, \n",
        "1.1089088680016348         \n",
        "]"
      ],
      "metadata": {
        "id": "M5E-ZWeOvWT4"
      },
      "execution_count": 57,
      "outputs": []
    },
    {
      "cell_type": "markdown",
      "source": [
        "###output (3_phases_360s_100keys)"
      ],
      "metadata": {
        "id": "EBC1Z-javgSH"
      }
    },
    {
      "cell_type": "code",
      "source": [
        "# y-axis\n",
        "time = []\n",
        "for i in range(len(imbalance_rate)):\n",
        "  time.append(5 * (i + 1))\n",
        "\n",
        "# y-axis\n",
        "d_time = []\n",
        "for i in range(len(d_rate)):\n",
        "  d_time.append(5 * (i + 1))\n",
        "\n",
        "# plot the lines and labels\n",
        "plt.plot(time, imbalance_rate, label=\"ConsistentHashing\")\n",
        "plt.plot(d_time, d_rate, label=\"DynamicLoadBalancing\")\n",
        "plt.legend()\n",
        "\n",
        "# plot the x and y labels\n",
        "plt.xlabel('Time (seconds)')\n",
        "plt.ylabel('Imbalance')\n",
        "\n",
        "# annotation\n",
        "ax = plt.subplot()\n",
        "ax.annotate(\n",
        "    'phase change 1', \n",
        "    xy=(135, 1.25),  \n",
        "    xycoords='data',\n",
        "    xytext=(0.3, 0.5), \n",
        "    textcoords='axes fraction',\n",
        "    arrowprops=dict(facecolor='black', shrink=0.05),\n",
        "    horizontalalignment='right', \n",
        "    verticalalignment='top',\n",
        ")\n",
        "\n",
        "ax = plt.subplot()\n",
        "ax.annotate(\n",
        "    'phase change 2', \n",
        "    xy=(270, 1.25),  \n",
        "    xycoords='data',\n",
        "    xytext=(0.7, 0.7), \n",
        "    textcoords='axes fraction',\n",
        "    arrowprops=dict(facecolor='black', shrink=0.05),\n",
        "    horizontalalignment='right', \n",
        "    verticalalignment='top',\n",
        ")"
      ],
      "metadata": {
        "colab": {
          "base_uri": "https://localhost:8080/",
          "height": 351
        },
        "id": "sIxTWx6rvkQP",
        "outputId": "7e07ce32-9ca2-4f5c-ed83-7ccd5a6ff9fa"
      },
      "execution_count": 64,
      "outputs": [
        {
          "output_type": "stream",
          "name": "stderr",
          "text": [
            "/usr/local/lib/python3.7/dist-packages/ipykernel_launcher.py:21: MatplotlibDeprecationWarning: Adding an axes using the same arguments as a previous axes currently reuses the earlier instance.  In a future version, a new instance will always be created and returned.  Meanwhile, this warning can be suppressed, and the future behavior ensured, by passing a unique label to each axes instance.\n",
            "/usr/local/lib/python3.7/dist-packages/ipykernel_launcher.py:33: MatplotlibDeprecationWarning: Adding an axes using the same arguments as a previous axes currently reuses the earlier instance.  In a future version, a new instance will always be created and returned.  Meanwhile, this warning can be suppressed, and the future behavior ensured, by passing a unique label to each axes instance.\n"
          ]
        },
        {
          "output_type": "execute_result",
          "data": {
            "text/plain": [
              "Text(0.7, 0.7, 'phase change 2')"
            ]
          },
          "metadata": {},
          "execution_count": 64
        },
        {
          "output_type": "display_data",
          "data": {
            "text/plain": [
              "<Figure size 432x288 with 1 Axes>"
            ],
            "image/png": "[encoded data removed]"
          },
          "metadata": {
            "needs_background": "light"
          }
        }
      ]
    },
    {
      "cell_type": "markdown",
      "source": [
        "# LONG COMPUTATION"
      ],
      "metadata": {
        "id": "N0b3_aaAykQe"
      }
    },
    {
      "cell_type": "markdown",
      "source": [
        "###input (3_peaks_360s_10keys_400r)"
      ],
      "metadata": {
        "id": "YgH14cAzzvb8"
      }
    },
    {
      "cell_type": "code",
      "source": [
        "imbalance_rate = [\n",
        "1.8466019417475728, \n",
        "1.9097744360902256, \n",
        "1.875,\n",
        "1.8403614457831325, \n",
        "1.9589384076114171, \n",
        "1.8883324987481223, \n",
        "1.9114114114114114, \n",
        "1.8483483483483483, \n",
        "1.8823234852278419, \n",
        "1.9444444444444444, \n",
        "1.8573573573573574, \n",
        "1.8892785571142283, \n",
        "1.9269634817408703, \n",
        "1.9178356713426852, \n",
        "1.7222222222222223, \n",
        "1.8933933933933933, \n",
        "1.9964894684052157, \n",
        "1.9359679839919959, \n",
        "1.9292168674698795, \n",
        "1.868803204807211,\n",
        "1.847194388777555,\n",
        "1.870110330992979,\n",
        "1.942942942942943,\n",
        "1.9449724862431215, \n",
        "1.9414414414414414, \n",
        "1.897897897897898,\n",
        "1.9924924924924925, \n",
        "2.093093093093093,\n",
        "2.1126126126126126, \n",
        "2.1171171171171173, \n",
        "2.0325,\n",
        "2.0765765765765765, \n",
        "2.1381381381381384, \n",
        "2.0385578367551327, \n",
        "2.0945945945945947, \n",
        "2.1308691308691308, \n",
        "2.0325977933801407, \n",
        "2.112,\n",
        "2.0185092546273133, \n",
        "2.099099099099099,\n",
        "1.981981981981982,\n",
        "2.0245122561280637, \n",
        "2.104208416833667,\n",
        "2.0646616541353384, \n",
        "2.099699398797595,\n",
        "2.018018018018018,\n",
        "2.1381381381381384, \n",
        "2.0615615615615615, \n",
        "2.1192384769539077, \n",
        "2.150575287643822,\n",
        "2.078078078078078,\n",
        "2.16191904047976,\n",
        "2.0440881763527052, \n",
        "2.994,\n",
        "3,\n",
        "3,\n",
        "3,\n",
        "3,\n",
        "3,\n",
        "3,\n",
        "3,\n",
        "3,\n",
        "3,\n",
        "3,\n",
        "3,\n",
        "3,\n",
        "3,\n",
        "3,\n",
        "3,\n",
        "3,\n",
        "3,\n",
        "3,\n",
        "3\n",
        "]"
      ],
      "metadata": {
        "id": "oTPMtzutzaxB"
      },
      "execution_count": 69,
      "outputs": []
    },
    {
      "cell_type": "code",
      "source": [
        "d_rate =[\n",
        "2,\n",
        "1.855421686746988,\n",
        "1.8697394789579158, \n",
        "1.087218045112782,\n",
        "1.1695171026156943, \n",
        "1.1500250878073255, \n",
        "1.0981472208312468, \n",
        "1.0696044066099148, \n",
        "1.143430290872618,\n",
        "1.1227454909819639, \n",
        "1.0776553106212423, \n",
        "1.1280120481927711, \n",
        "1.0881763527054107, \n",
        "1.132132132132132,\n",
        "1.1678356713426854, \n",
        "1.2243365047571357, \n",
        "1.098294884653962,\n",
        "1.1891891891891893, \n",
        "1.1657486229344016, \n",
        "1.1210447011551985, \n",
        "1.0949238578680203, \n",
        "1.188877755511022,\n",
        "1.095691382765531,\n",
        "1.2126063031515757, \n",
        "1.1095477386934673, \n",
        "1.1223671013039118, \n",
        "1.1732598898347522, \n",
        "1.035571142284569,\n",
        "1.086258776328987,\n",
        "1.1182364729458918, \n",
        "1.1981981981981982, \n",
        "1.1636636636636637, \n",
        "1.1216216216216217, \n",
        "1.1219879518072289, \n",
        "1.0997993981945837, \n",
        "1.1597396094141212, \n",
        "1.1302605210420842, \n",
        "1.0477386934673367, \n",
        "1.1737160120845922, \n",
        "1.0470706059088633, \n",
        "1.0951427140711067, \n",
        "1.1413533834586467, \n",
        "1.1163490471414244, \n",
        "1.1152304609218435, \n",
        "1.125751503006012,\n",
        "1.144578313253012,\n",
        "1.092685370741483,\n",
        "1.1376192867905577, \n",
        "1.1488721804511277, \n",
        "1.092685370741483,\n",
        "1.1614844533600803, \n",
        "1.1420710355177588, \n",
        "1.1441441441441442, \n",
        "1.2792792792792793, \n",
        "1.0921382073109664, \n",
        "1.2183274912368554, \n",
        "1.198193677872554,\n",
        "1.1756756756756757, \n",
        "1.221,\n",
        "1.2297297297297298, \n",
        "1.1092184368737474, \n",
        "1.2293853073463268, \n",
        "1.1429290387518871, \n",
        "1.1426426426426426, \n",
        "1.1996996996996998, \n",
        "1.1948897795591182, \n",
        "1.104,\n",
        "1.2498748122183276, \n",
        "1.1966884094330155, \n",
        "1.132132132132132,\n",
        "1.1816816816816818, \n",
        "1.1879699248120301, \n",
        "1.2357906584130556         \n",
        "]"
      ],
      "metadata": {
        "id": "pCK0RYXnymCN"
      },
      "execution_count": 70,
      "outputs": []
    },
    {
      "cell_type": "markdown",
      "source": [
        "###output (cons_hash_3_peaks_360s_10keys_400r)"
      ],
      "metadata": {
        "id": "C5b1kFuoz-vI"
      }
    },
    {
      "cell_type": "code",
      "source": [
        "# y-axis\n",
        "time = []\n",
        "for i in range(len(imbalance_rate)):\n",
        "  time.append(5 * (i + 1))\n",
        "\n",
        "# y-axis\n",
        "d_time = []\n",
        "for i in range(len(d_rate)):\n",
        "  d_time.append(5 * (i + 1))\n",
        "\n",
        "# plot the lines and labels\n",
        "plt.plot(time, imbalance_rate, label=\"ConsistentHashing\")\n",
        "plt.plot(d_time, d_rate, label=\"DynamicLoadBalancing\")\n",
        "plt.legend()\n",
        "\n",
        "# plot the x and y labels\n",
        "plt.xlabel('Time (seconds)')\n",
        "plt.ylabel('Imbalance')\n",
        "\n",
        "# annotation\n",
        "ax = plt.subplot()\n",
        "ax.annotate(\n",
        "    'phase change 1', \n",
        "    xy=(135, 2),  \n",
        "    xycoords='data',\n",
        "    xytext=(0.3, 0.7), \n",
        "    textcoords='axes fraction',\n",
        "    arrowprops=dict(facecolor='black', shrink=0.05),\n",
        "    horizontalalignment='right', \n",
        "    verticalalignment='top',\n",
        ")\n",
        "\n",
        "ax = plt.subplot()\n",
        "ax.annotate(\n",
        "    'phase change 2', \n",
        "    xy=(270, 2.3),  \n",
        "    xycoords='data',\n",
        "    xytext=(0.6, 0.7), \n",
        "    textcoords='axes fraction',\n",
        "    arrowprops=dict(facecolor='black', shrink=0.05),\n",
        "    horizontalalignment='right', \n",
        "    verticalalignment='top',\n",
        ")"
      ],
      "metadata": {
        "colab": {
          "base_uri": "https://localhost:8080/",
          "height": 351
        },
        "id": "_MWWOJOk0AH5",
        "outputId": "2c9c20fb-09dd-4f20-8f22-f6853a591e80"
      },
      "execution_count": 86,
      "outputs": [
        {
          "output_type": "stream",
          "name": "stderr",
          "text": [
            "/usr/local/lib/python3.7/dist-packages/ipykernel_launcher.py:21: MatplotlibDeprecationWarning: Adding an axes using the same arguments as a previous axes currently reuses the earlier instance.  In a future version, a new instance will always be created and returned.  Meanwhile, this warning can be suppressed, and the future behavior ensured, by passing a unique label to each axes instance.\n",
            "/usr/local/lib/python3.7/dist-packages/ipykernel_launcher.py:33: MatplotlibDeprecationWarning: Adding an axes using the same arguments as a previous axes currently reuses the earlier instance.  In a future version, a new instance will always be created and returned.  Meanwhile, this warning can be suppressed, and the future behavior ensured, by passing a unique label to each axes instance.\n"
          ]
        },
        {
          "output_type": "execute_result",
          "data": {
            "text/plain": [
              "Text(0.6, 0.7, 'phase change 2')"
            ]
          },
          "metadata": {},
          "execution_count": 86
        },
        {
          "output_type": "display_data",
          "data": {
            "text/plain": [
              "<Figure size 432x288 with 1 Axes>"
            ],
            "image/png": "[encoded data removed]"
          },
          "metadata": {
            "needs_background": "light"
          }
        }
      ]
    },
    {
      "cell_type": "markdown",
      "source": [
        "###input (3_peaks_360s_10keys_1600r)"
      ],
      "metadata": {
        "id": "yNq4Vol01gLB"
      }
    },
    {
      "cell_type": "code",
      "source": [
        "imbalance_rate =[\n",
        "2.2612723903644225, \n",
        "2.1947261663286004, \n",
        "2.215526046986721,\n",
        "2.193335380835381,\n",
        "2.1656884875846503, \n",
        "2.1517960602549246, \n",
        "2.1905135856761424, \n",
        "2.1797434367541766, \n",
        "2.2064090480678606, \n",
        "2.1452687694358064, \n",
        "2.18997756170531,\n",
        "2.1740909806390682, \n",
        "2.156751796910843,\n",
        "2.173388966156699,\n",
        "2.221886336154776,\n",
        "2.1339691189827428, \n",
        "2.200852189244784,\n",
        "2.1607554122524184, \n",
        "2.22289691943128,\n",
        "2.1631651587179883, \n",
        "2.1869202226345084, \n",
        "2.1894299287410925, \n",
        "2.20811232449298,\n",
        "2.1617933723196883, \n",
        "2.191568598242217,\n",
        "2.140358548316572,\n",
        "2.1768770152003687, \n",
        "2.187627662678728,\n",
        "2.1294548527961683, \n",
        "2.1324494068388,\n",
        "2.128678023370407,\n",
        "2.1238974641675856, \n",
        "2.1045863694813547, \n",
        "2.171164772727273,\n",
        "2.136132695756127,\n",
        "2.082411008076578,\n",
        "2.1499522445081185, \n",
        "2.1176992458967914, \n",
        "2.1107701749002765, \n",
        "2.130669699985781,\n",
        "2.12294718153573,\n",
        "2.070080862533693,\n",
        "2.122824679994247,\n",
        "2.1093261936635432, \n",
        "2.1208390332877336, \n",
        "2.1528444139821796, \n",
        "2.1532221721496168, \n",
        "2.0885947046843176, \n",
        "2.1413352272727275, \n",
        "2.105424321959755,\n",
        "2.1139013452914797, \n",
        "2.1190230984257763, \n",
        "2.1073256324023983, \n",
        "1.631841526045488,\n",
        "1.9203128542280663, \n",
        "1.8912082514734776, \n",
        "1.976128016789087,\n",
        "1.9386267232237542, \n",
        "1.8773273471543641, \n",
        "1.9594250826761639, \n",
        "1.9785123966942146, \n",
        "1.8944536423841059, \n",
        "1.900740368929602,\n",
        "1.9262325931501694, \n",
        "1.94321608040201,\n",
        "1.8812601983180621, \n",
        "1.905037783375315,\n",
        "1.9411764705882355, \n",
        "1.9216277317256971, \n",
        "1.9261576971214016, \n",
        "1.9146341463414633, \n",
        "1.8895048506992567, \n",
        "1.9205607476635516                 \n",
        "]"
      ],
      "metadata": {
        "id": "4uEUXcx50071"
      },
      "execution_count": 87,
      "outputs": []
    },
    {
      "cell_type": "code",
      "source": [
        "d_rate =[\n",
        "2.269511638521223,\n",
        "1.1236909471724459, \n",
        "1.1208213346688367, \n",
        "1.125,\n",
        "1.1178102926337035, \n",
        "1.1034526209677418, \n",
        "1.1047678795483062, \n",
        "1.1204274041483344, \n",
        "1.1075647147524503, \n",
        "1.0999624201428035, \n",
        "1.1075996990218209, \n",
        "1.1245765901392548, \n",
        "1.1139954853273137, \n",
        "1.1487509462528387, \n",
        "1.117757712565839,\n",
        "1.1011702529256324, \n",
        "1.1436110064078402, \n",
        "1.1083427708569271, \n",
        "1.1253296496295366, \n",
        "1.1304129534329108, \n",
        "1.1301782575947776, \n",
        "1.1061157855079744, \n",
        "1.1604659902292371, \n",
        "1.158139534883721,\n",
        "1.10863020572002,\n",
        "1.0756217649286706, \n",
        "1.3845284440537484, \n",
        "1.89913109180204,\n",
        "1.9004372267332916, \n",
        "1.1210705718974876, \n",
        "1.0857178873061892, \n",
        "1.093984962406015,\n",
        "1.1412429378531073, \n",
        "1.113781449493053,\n",
        "1.0767783214151299, \n",
        "1.1366762535950983, \n",
        "1.1013039117352057, \n",
        "1.1145963509122718, \n",
        "1.1374209860935525, \n",
        "1.1305872042068361, \n",
        "1.1052037617554857, \n",
        "1.135063957863055,\n",
        "1.107183151560737,\n",
        "1.115050924179555,\n",
        "1.0799398571607568, \n",
        "1.116997238262616,\n",
        "1.125985237082447,\n",
        "1.1239105721864342, \n",
        "1.128935532233883,\n",
        "1.1009880662132683, \n",
        "1.1057571964956194, \n",
        "1.1157180550320391, \n",
        "1.1262670504317358, \n",
        "1.9655301611090297, \n",
        "1.062929061784897,\n",
        "1.1061746987951808, \n",
        "1.0634721525338684, \n",
        "1.0682871820573863, \n",
        "1.116060225846926,\n",
        "1.065217391304348,\n",
        "1.089181656954649,\n",
        "1.0738399291945884, \n",
        "1.1075012543903662, \n",
        "1.0601277715144684, \n",
        "1.0841788801202557, \n",
        "1.1094707869385712, \n",
        "1.0937147158449378, \n",
        "1.098321643286573,\n",
        "1.0840020060180542, \n",
        "1.0842647243501193, \n",
        "1.0878666332414137, \n",
        "1.1092184368737474, \n",
        "1.066543438077634         \n",
        "]"
      ],
      "metadata": {
        "id": "LrmfEu63044l"
      },
      "execution_count": 88,
      "outputs": []
    },
    {
      "cell_type": "markdown",
      "source": [
        "###output (3_peaks_360s_10keys_1600r)"
      ],
      "metadata": {
        "id": "x59Evf661nmm"
      }
    },
    {
      "cell_type": "code",
      "source": [
        "# y-axis\n",
        "time = []\n",
        "for i in range(len(imbalance_rate)):\n",
        "  time.append(5 * (i + 1))\n",
        "\n",
        "# y-axis\n",
        "d_time = []\n",
        "for i in range(len(d_rate)):\n",
        "  d_time.append(5 * (i + 1))\n",
        "\n",
        "# plot the lines and labels\n",
        "plt.plot(time, imbalance_rate, label=\"ConsistentHashing\")\n",
        "plt.plot(d_time, d_rate, label=\"DynamicLoadBalancing\")\n",
        "plt.legend()\n",
        "\n",
        "# plot the x and y labels\n",
        "plt.xlabel('Time (seconds)')\n",
        "plt.ylabel('Imbalance')\n",
        "\n",
        "# annotation\n",
        "ax = plt.subplot()\n",
        "ax.annotate(\n",
        "    'phase change 1', \n",
        "    xy=(135, 1.8),  \n",
        "    xycoords='data',\n",
        "    xytext=(0.3, 0.7), \n",
        "    textcoords='axes fraction',\n",
        "    arrowprops=dict(facecolor='black', shrink=0.05),\n",
        "    horizontalalignment='right', \n",
        "    verticalalignment='top',\n",
        ")\n",
        "\n",
        "ax = plt.subplot()\n",
        "ax.annotate(\n",
        "    'phase change 2', \n",
        "    xy=(270, 2.1),  \n",
        "    xycoords='data',\n",
        "    xytext=(0.7, 0.99), \n",
        "    textcoords='axes fraction',\n",
        "    arrowprops=dict(facecolor='black', shrink=0.05),\n",
        "    horizontalalignment='right', \n",
        "    verticalalignment='top',\n",
        ")"
      ],
      "metadata": {
        "colab": {
          "base_uri": "https://localhost:8080/",
          "height": 351
        },
        "id": "nxRCIi7c1PJq",
        "outputId": "31732267-539f-4381-8b0d-e8c246d31eae"
      },
      "execution_count": 102,
      "outputs": [
        {
          "output_type": "stream",
          "name": "stderr",
          "text": [
            "/usr/local/lib/python3.7/dist-packages/ipykernel_launcher.py:21: MatplotlibDeprecationWarning: Adding an axes using the same arguments as a previous axes currently reuses the earlier instance.  In a future version, a new instance will always be created and returned.  Meanwhile, this warning can be suppressed, and the future behavior ensured, by passing a unique label to each axes instance.\n",
            "/usr/local/lib/python3.7/dist-packages/ipykernel_launcher.py:33: MatplotlibDeprecationWarning: Adding an axes using the same arguments as a previous axes currently reuses the earlier instance.  In a future version, a new instance will always be created and returned.  Meanwhile, this warning can be suppressed, and the future behavior ensured, by passing a unique label to each axes instance.\n"
          ]
        },
        {
          "output_type": "execute_result",
          "data": {
            "text/plain": [
              "Text(0.7, 0.99, 'phase change 2')"
            ]
          },
          "metadata": {},
          "execution_count": 102
        },
        {
          "output_type": "display_data",
          "data": {
            "text/plain": [
              "<Figure size 432x288 with 1 Axes>"
            ],
            "image/png": "[encoded data removed]"
          },
          "metadata": {
            "needs_background": "light"
          }
        }
      ]
    },
    {
      "cell_type": "markdown",
      "source": [
        "###input (3_peaks_360s_10keys_1600r_2600r)"
      ],
      "metadata": {
        "id": "-Nj_mImZ1q0N"
      }
    },
    {
      "cell_type": "code",
      "source": [
        "imbalance_rate =[\n",
        "2.2612723903644225, \n",
        "2.1947261663286004, \n",
        "2.215526046986721,\n",
        "2.193335380835381,\n",
        "2.1656884875846503, \n",
        "2.1517960602549246, \n",
        "2.1905135856761424, \n",
        "2.1797434367541766, \n",
        "2.2064090480678606, \n",
        "2.1452687694358064, \n",
        "2.18997756170531,\n",
        "2.1740909806390682, \n",
        "2.156751796910843,\n",
        "2.173388966156699,\n",
        "2.221886336154776,\n",
        "2.1339691189827428, \n",
        "2.200852189244784,\n",
        "2.1607554122524184, \n",
        "2.22289691943128,\n",
        "2.1631651587179883, \n",
        "2.1869202226345084, \n",
        "2.1894299287410925, \n",
        "2.20811232449298,\n",
        "2.1617933723196883, \n",
        "2.191568598242217,\n",
        "2.140358548316572,\n",
        "2.1768770152003687, \n",
        "2.187627662678728,\n",
        "2.1294548527961683, \n",
        "2.1324494068388,\n",
        "2.128678023370407,\n",
        "2.1238974641675856, \n",
        "2.1045863694813547, \n",
        "2.171164772727273,\n",
        "2.136132695756127,\n",
        "2.082411008076578,\n",
        "2.1499522445081185, \n",
        "2.1176992458967914, \n",
        "2.1107701749002765, \n",
        "2.130669699985781,\n",
        "2.12294718153573,\n",
        "2.070080862533693,\n",
        "2.122824679994247,\n",
        "2.1093261936635432, \n",
        "2.1208390332877336, \n",
        "2.1528444139821796, \n",
        "2.1532221721496168, \n",
        "2.0885947046843176, \n",
        "2.1413352272727275, \n",
        "2.105424321959755,\n",
        "2.1139013452914797, \n",
        "2.1190230984257763, \n",
        "2.1073256324023983, \n",
        "1.631841526045488,\n",
        "1.9203128542280663, \n",
        "1.8912082514734776, \n",
        "1.976128016789087,\n",
        "1.9386267232237542, \n",
        "1.8773273471543641, \n",
        "1.9594250826761639, \n",
        "1.9785123966942146, \n",
        "1.8944536423841059, \n",
        "1.900740368929602,\n",
        "1.9262325931501694, \n",
        "1.94321608040201,\n",
        "1.8812601983180621, \n",
        "1.905037783375315,\n",
        "1.9411764705882355, \n",
        "1.9216277317256971, \n",
        "1.9261576971214016, \n",
        "1.9146341463414633, \n",
        "1.8895048506992567, \n",
        "1.9205607476635516                 \n",
        "]"
      ],
      "metadata": {
        "id": "nfZgsyHm15C7"
      },
      "execution_count": 103,
      "outputs": []
    },
    {
      "cell_type": "code",
      "source": [
        "d_rate = [\n",
        "1.1313635972090619, \n",
        "1.1030537301894086, \n",
        "1.0805104408352668, \n",
        "1.1206722949422971, \n",
        "1.0977309687911407, \n",
        "1.134857676154923,\n",
        "1.1098426411601359, \n",
        "1.100525827404887,\n",
        "1.1145257916439741, \n",
        "1.1182133230650753, \n",
        "1.1391004003453962, \n",
        "1.1110765884728913, \n",
        "1.1052264808362369, \n",
        "1.1125135511847606, \n",
        "1.0950127976421313, \n",
        "1.144224830142063,\n",
        "1.107620164126612,\n",
        "1.1086452211568203, \n",
        "1.0724320949110209, \n",
        "1.0847286036913013, \n",
        "1.0899557212770916, \n",
        "1.0752847083369554, \n",
        "1.0774553571428571, \n",
        "1.0958097928436912, \n",
        "1.1244196843082637, \n",
        "1.072048814832199,\n",
        "1.1143386897404202, \n",
        "1.1995325282430853, \n",
        "1.1314710206608372, \n",
        "1.1351975964871737, \n",
        "1.1477832512315271, \n",
        "1.125897891403414,\n",
        "1.1255487945775244, \n",
        "1.1691973969631237, \n",
        "1.0993125758188433, \n",
        "1.152033271719039,\n",
        "1.1376168224299066, \n",
        "1.1117715167888846, \n",
        "1.1173457508731082, \n",
        "1.1595348837209303, \n",
        "1.1406069029418577, \n",
        "1.1538283599352301, \n",
        "1.1463074779377613, \n",
        "1.108761329305136,\n",
        "1.1274608198872846, \n",
        "1.170337286308332,\n",
        "1.1388631578947368, \n",
        "1.154006163328197,\n",
        "1.152430501630688,\n",
        "1.1113977485928705, \n",
        "1.142493049119555,\n",
        "1.1543345351936039, \n",
        "1.1062320688555944, \n",
        "2.1779715348121553, \n",
        "1.1540880503144655, \n",
        "1.1235461926706167, \n",
        "1.0945049919975611, \n",
        "1.1539136368067064, \n",
        "1.1165460617868077, \n",
        "1.09773394196283,\n",
        "1.1091500232234093, \n",
        "1.0992984349703183, \n",
        "1.1121430229858371, \n",
        "1.1014481530240843, \n",
        "1.0865195886001413, \n",
        "1.1152183979009107, \n",
        "1.1290272373540857, \n",
        "1.1014212884288583, \n",
        "1.0990052479047543, \n",
        "1.1235443037974684, \n",
        "1.0978057889822597, \n",
        "1.123773937412424,\n",
        "1.383673469387755\n",
        "]"
      ],
      "metadata": {
        "id": "EtfTLs-616tX"
      },
      "execution_count": 104,
      "outputs": []
    },
    {
      "cell_type": "markdown",
      "source": [
        "###output (3_peaks_360s_10keys_1600r_2600r)"
      ],
      "metadata": {
        "id": "P44xcVG61wAR"
      }
    },
    {
      "cell_type": "code",
      "source": [
        "# y-axis\n",
        "time = []\n",
        "for i in range(len(imbalance_rate)):\n",
        "  time.append(5 * (i + 1))\n",
        "\n",
        "# y-axis\n",
        "d_time = []\n",
        "for i in range(len(d_rate)):\n",
        "  d_time.append(5 * (i + 1))\n",
        "\n",
        "# plot the lines and labels\n",
        "plt.plot(time, imbalance_rate, label=\"ConsistentHashing\")\n",
        "plt.plot(d_time, d_rate, label=\"DynamicLoadBalancing\")\n",
        "plt.legend()\n",
        "\n",
        "# plot the x and y labels\n",
        "plt.xlabel('Time (seconds)')\n",
        "plt.ylabel('Imbalance')\n",
        "\n",
        "# annotation\n",
        "ax = plt.subplot()\n",
        "ax.annotate(\n",
        "    'phase change 1', \n",
        "    xy=(135, 2.1),  \n",
        "    xycoords='data',\n",
        "    xytext=(0.3, 0.7), \n",
        "    textcoords='axes fraction',\n",
        "    arrowprops=dict(facecolor='black', shrink=0.05),\n",
        "    horizontalalignment='right', \n",
        "    verticalalignment='top',\n",
        ")\n",
        "\n",
        "ax = plt.subplot()\n",
        "ax.annotate(\n",
        "    'phase change 2', \n",
        "    xy=(270, 2.1),  \n",
        "    xycoords='data',\n",
        "    xytext=(0.7, 0.99), \n",
        "    textcoords='axes fraction',\n",
        "    arrowprops=dict(facecolor='black', shrink=0.05),\n",
        "    horizontalalignment='right', \n",
        "    verticalalignment='top',\n",
        ")"
      ],
      "metadata": {
        "colab": {
          "base_uri": "https://localhost:8080/",
          "height": 351
        },
        "id": "8SYuyoge1S7V",
        "outputId": "1028aa67-b6ed-4a21-caed-13286d90feeb"
      },
      "execution_count": 111,
      "outputs": [
        {
          "output_type": "stream",
          "name": "stderr",
          "text": [
            "/usr/local/lib/python3.7/dist-packages/ipykernel_launcher.py:21: MatplotlibDeprecationWarning: Adding an axes using the same arguments as a previous axes currently reuses the earlier instance.  In a future version, a new instance will always be created and returned.  Meanwhile, this warning can be suppressed, and the future behavior ensured, by passing a unique label to each axes instance.\n",
            "/usr/local/lib/python3.7/dist-packages/ipykernel_launcher.py:33: MatplotlibDeprecationWarning: Adding an axes using the same arguments as a previous axes currently reuses the earlier instance.  In a future version, a new instance will always be created and returned.  Meanwhile, this warning can be suppressed, and the future behavior ensured, by passing a unique label to each axes instance.\n"
          ]
        },
        {
          "output_type": "execute_result",
          "data": {
            "text/plain": [
              "Text(0.7, 0.99, 'phase change 2')"
            ]
          },
          "metadata": {},
          "execution_count": 111
        },
        {
          "output_type": "display_data",
          "data": {
            "text/plain": [
              "<Figure size 432x288 with 1 Axes>"
            ],
            "image/png": "[encoded data removed]"
          },
          "metadata": {
            "needs_background": "light"
          }
        }
      ]
    }
  ]
}